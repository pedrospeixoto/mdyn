{
 "cells": [
  {
   "cell_type": "raw",
   "metadata": {},
   "source": [
    "# Package Requiriments \n",
    "import sys\n",
    "!{sys.executable} -m pip install PyAthena\n",
    "!{sys.executable} -m pip install matplotlib \n",
    "!{sys.executable} -m pip install pandas\n"
   ]
  },
  {
   "cell_type": "code",
   "execution_count": 15,
   "metadata": {},
   "outputs": [],
   "source": [
    "# Package import\n",
    "from pyathena import connect\n",
    "import pandas as pd\n",
    "from datetime import datetime"
   ]
  },
  {
   "cell_type": "code",
   "execution_count": 16,
   "metadata": {},
   "outputs": [],
   "source": [
    "# Set connection and paths\n",
    "conn = connect(s3_staging_dir='s3://datalake-covidradar-prod-athena-queries/results',\n",
    "               region_name='sa-east-1')\n",
    "               \n",
    "path_health = \";\"\n",
    "path_sociodem = \"demographics.dataset_106ebfb4 limit 1000000;\"\n",
    "path_covid = \"health.dataset_81e4a809;\"\n",
    "path_mobility_1 = \"origin_destination.dataset_9c80708f_by_sector_code limit 100\"\n",
    "path_mobility_2 = \"SELECT * FROM origin_destination.dataset_eeeaf027_preprocessed_data limit 100\""
   ]
  },
  {
   "cell_type": "markdown",
   "metadata": {},
   "source": [
    "Useful commands:"
   ]
  },
  {
   "cell_type": "code",
   "execution_count": 17,
   "metadata": {},
   "outputs": [
    {
     "data": {
      "text/plain": [
       "'2020-01-20'"
      ]
     },
     "execution_count": 17,
     "metadata": {},
     "output_type": "execute_result"
    }
   ],
   "source": [
    "datetime.utcfromtimestamp(1579510233).strftime('%Y-%m-%d')\n"
   ]
  },
  {
   "cell_type": "code",
   "execution_count": 18,
   "metadata": {},
   "outputs": [],
   "source": [
    "df_geolocation_acre = pd.read_sql(\"select * from origin_destination.dataset_eeeaf027  where orig_state = 'ac' and (orig_city = 'mancio lima' or orig_city = 'acrelandia')\",conn)"
   ]
  },
  {
   "cell_type": "code",
   "execution_count": null,
   "metadata": {},
   "outputs": [],
   "source": []
  },
  {
   "cell_type": "code",
   "execution_count": 9,
   "metadata": {},
   "outputs": [],
   "source": [
    "df = pd.read_sql(path_mobility_2, conn)\n"
   ]
  },
  {
   "cell_type": "code",
   "execution_count": 11,
   "metadata": {},
   "outputs": [
    {
     "name": "stdout",
     "output_type": "stream",
     "text": [
      "   stay_begins        date  staypointid  \\\n",
      "0   1584737688  2020-03-20            4   \n",
      "1   1584738558  2020-03-20            6   \n",
      "2   1584738728  2020-03-20            7   \n",
      "3   1584737326  2020-03-20            3   \n",
      "4   1584738021  2020-03-20            5   \n",
      "\n",
      "                                                  id  stay_length  \\\n",
      "0  NKLkivKCU2ZLc9DGFA3TinCBR+ZmlXYExl0VUlGUbowG28...          179   \n",
      "1  NKLkivKCU2ZLc9DGFA3TinCBR+ZmlXYExl0VUlGUbowG28...            3   \n",
      "2  NKLkivKCU2ZLc9DGFA3TinCBR+ZmlXYExl0VUlGUbowG28...         8755   \n",
      "3  NKLkivKCU2ZLc9DGFA3TinCBR+ZmlXYExl0VUlGUbowG28...          333   \n",
      "4  NKLkivKCU2ZLc9DGFA3TinCBR+ZmlXYExl0VUlGUbowG28...          382   \n",
      "\n",
      "  neighborhood_ibge sector_code_ibge state_ibge          city_ibge  \n",
      "0              None  220095405000004         pi  aroeiras do itaim  \n",
      "1              None  220095405000004         pi  aroeiras do itaim  \n",
      "2              None  220095405000004         pi  aroeiras do itaim  \n",
      "3              None  220095405000004         pi  aroeiras do itaim  \n",
      "4              None  220095405000004         pi  aroeiras do itaim  \n"
     ]
    }
   ],
   "source": [
    "print(df.head())"
   ]
  },
  {
   "cell_type": "code",
   "execution_count": null,
   "metadata": {},
   "outputs": [],
   "source": []
  }
 ],
 "metadata": {
  "kernelspec": {
   "display_name": "conda_python3",
   "language": "python",
   "name": "conda_python3"
  },
  "language_info": {
   "codemirror_mode": {
    "name": "ipython",
    "version": 3
   },
   "file_extension": ".py",
   "mimetype": "text/x-python",
   "name": "python",
   "nbconvert_exporter": "python",
   "pygments_lexer": "ipython3",
   "version": "3.6.5"
  }
 },
 "nbformat": 4,
 "nbformat_minor": 4
}
